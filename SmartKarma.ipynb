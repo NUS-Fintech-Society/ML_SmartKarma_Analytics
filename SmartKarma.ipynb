{
 "cells": [
  {
   "cell_type": "code",
   "execution_count": null,
   "metadata": {},
   "outputs": [],
   "source": [
    "# Installing Libraries\n",
    "pip install pycorenlp\n",
    "pip install textblob"
   ]
  },
  {
   "cell_type": "code",
   "execution_count": 1,
   "metadata": {},
   "outputs": [],
   "source": [
    "# cd stanford-corenlp-full-2018-10-05\n",
    "# java -mx5g -cp \"*\" edu.stanford.nlp.pipeline.StanfordCoreNLPServer -timeout 10000\n",
    "from textblob import TextBlob\n",
    "from pycorenlp import StanfordCoreNLP\n",
    "\n",
    "nlp = StanfordCoreNLP('http://localhost:9000')"
   ]
  },
  {
   "cell_type": "code",
   "execution_count": 7,
   "metadata": {},
   "outputs": [],
   "source": [
    "# Neutral (2) and Negative (1), the range is from Very Negative (0) to Very Positive (4)\n",
    "def sentiment_stanford(text):\n",
    "    ls = []\n",
    "    res = nlp.annotate(text, properties={\n",
    "                       'annotators': 'sentiment',\n",
    "                       'outputFormat': 'json',\n",
    "                       'timeout': 1000})\n",
    "    for s in res[\"sentences\"]:\n",
    "        ls.append((\" \".join([t[\"word\"] for t in s[\"tokens\"]]), s[\"sentimentValue\"]))\n",
    "    return ls"
   ]
  },
  {
   "cell_type": "code",
   "execution_count": 3,
   "metadata": {},
   "outputs": [],
   "source": [
    "# Polarity is a float value within the range [-1.0 to 1.0] where 0 indicates neutral, \n",
    "# +1 indicates a very positive sentiment and -1 represents a very negative sentiment\n",
    "\n",
    "# Subjectivity is a float value within the range [0.0 to 1.0] where 0.0 is very objective and 1.0 is very subjective\n",
    "def sentiment_textblob(text):\n",
    "  blob = TextBlob(text)\n",
    "  return blob.sentiment"
   ]
  },
  {
   "cell_type": "code",
   "execution_count": 5,
   "metadata": {},
   "outputs": [],
   "source": [
    "def sentiment(text):\n",
    "    res = nlp.annotate(text, properties={\n",
    "                       'annotators': 'sentiment',\n",
    "                       'outputFormat': 'json',\n",
    "                       'timeout': 1000})\n",
    "\n",
    "    for s in res[\"sentences\"]:\n",
    "        token = \" \".join([t[\"word\"] for t in s[\"tokens\"]])\n",
    "        print(sentiment_stanford(token))\n",
    "        print(sentiment_textblob(token))"
   ]
  }
 ],
 "metadata": {
  "kernelspec": {
   "display_name": "Python 3",
   "language": "python",
   "name": "python3"
  },
  "language_info": {
   "codemirror_mode": {
    "name": "ipython",
    "version": 3
   },
   "file_extension": ".py",
   "mimetype": "text/x-python",
   "name": "python",
   "nbconvert_exporter": "python",
   "pygments_lexer": "ipython3",
   "version": "3.7.1"
  }
 },
 "nbformat": 4,
 "nbformat_minor": 2
}
